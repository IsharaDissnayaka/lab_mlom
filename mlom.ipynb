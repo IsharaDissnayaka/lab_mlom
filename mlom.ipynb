{
  "nbformat": 4,
  "nbformat_minor": 0,
  "metadata": {
    "colab": {
      "provenance": []
    },
    "kernelspec": {
      "name": "python3",
      "display_name": "Python 3"
    },
    "language_info": {
      "name": "python"
    }
  },
  "cells": [
    {
      "cell_type": "code",
      "execution_count": 12,
      "metadata": {
        "colab": {
          "base_uri": "https://localhost:8080/"
        },
        "id": "X4JlAzQJe4sp",
        "outputId": "fd6bac6e-fbb1-4962-8d36-aa9be5b8d8a9"
      },
      "outputs": [
        {
          "output_type": "stream",
          "name": "stdout",
          "text": [
            "Drive already mounted at /content/drive; to attempt to forcibly remount, call drive.mount(\"/content/drive\", force_remount=True).\n"
          ]
        }
      ],
      "source": [
        "import os\n",
        "import cv2\n",
        "import numpy as np\n",
        "from sklearn.model_selection import train_test_split\n",
        "\n",
        "import tensorflow as tf\n",
        "from tensorflow.keras import Sequential\n",
        "from tensorflow.keras.layers import Conv2D, MaxPooling2D, Flatten, Dense,Dropout\n",
        "\n",
        "from google.colab import drive\n",
        "drive.mount('/content/drive')\n",
        "\n",
        "data_path = '/content/drive/MyDrive/LAB_MLOM/archive'\n",
        "\n",
        "# Load the dataset\n",
        "def load_data():\n",
        "    chess_pieces = []\n",
        "    labels = []\n",
        "    for piece_type in os.listdir(data_path):\n",
        "        for image_file in os.listdir(os.path.join(data_path, piece_type)):\n",
        "            img = cv2.imread(os.path.join(data_path, piece_type, image_file))\n",
        "            img = cv2.resize(img, (124, 124))\n",
        "            chess_pieces.append(img)\n",
        "            labels.append(piece_type)\n",
        "\n",
        "    return np.array(chess_pieces), np.array(labels)\n",
        "\n",
        "chess_pieces, labels = load_data()\n",
        "\n",
        "# Encode labels into integers (e.g., 'bishop' -> 0, 'king' -> 1, etc.)\n",
        "from sklearn.preprocessing import LabelEncoder\n",
        "label_encoder = LabelEncoder()\n",
        "labels = label_encoder.fit_transform(labels)\n",
        "\n",
        "# Split data into training and validation sets (80% train, 20% validation)\n",
        "X_train, X_val, y_train, y_val = train_test_split(chess_pieces, labels, test_size=0.2, random_state=42)\n",
        "\n",
        "# Normalize pixel values to the range [0, 1]\n",
        "X_train = X_train / 255.0\n",
        "X_val = X_val / 255.0\n",
        "\n",
        "\n"
      ]
    },
    {
      "cell_type": "code",
      "source": [
        "\n",
        "\n",
        "model = Sequential()\n",
        "\n",
        "# Convolutional layers\n",
        "model.add(Conv2D(2, (3, 3), activation='sigmoid', strides=(1, 1), padding='valid', input_shape=(124, 124, 3), name='conv1'))\n",
        "model.add(MaxPooling2D(pool_size=(2, 2), name='Pool1'))\n",
        "model.add(Conv2D(2, (3, 3), activation='relu', strides=(1, 1), padding='valid', name='conv2'))\n",
        "model.add(MaxPooling2D(pool_size=(2, 2), name='Pool2'))\n",
        "\n",
        "# Fully connected layers\n",
        "model.add(Flatten())\n",
        "model.add(Dense(50, activation='relu', name='FC1'))\n",
        "\n",
        "# Output layer\n",
        "model.add(Dense(6, activation='softmax', name='Output'))\n",
        "\n",
        "# Print the model summary\n",
        "model.summary()\n",
        "\n"
      ],
      "metadata": {
        "colab": {
          "base_uri": "https://localhost:8080/"
        },
        "id": "cv3kdjNof1MV",
        "outputId": "d08136ed-dd1c-44b3-d36c-90d19fd1ebac"
      },
      "execution_count": 4,
      "outputs": [
        {
          "output_type": "stream",
          "name": "stdout",
          "text": [
            "Model: \"sequential_1\"\n",
            "_________________________________________________________________\n",
            " Layer (type)                Output Shape              Param #   \n",
            "=================================================================\n",
            " conv1 (Conv2D)              (None, 122, 122, 2)       56        \n",
            "                                                                 \n",
            " Pool1 (MaxPooling2D)        (None, 61, 61, 2)         0         \n",
            "                                                                 \n",
            " conv2 (Conv2D)              (None, 59, 59, 2)         38        \n",
            "                                                                 \n",
            " Pool2 (MaxPooling2D)        (None, 29, 29, 2)         0         \n",
            "                                                                 \n",
            " flatten (Flatten)           (None, 1682)              0         \n",
            "                                                                 \n",
            " FC1 (Dense)                 (None, 50)                84150     \n",
            "                                                                 \n",
            " Output (Dense)              (None, 6)                 306       \n",
            "                                                                 \n",
            "=================================================================\n",
            "Total params: 84550 (330.27 KB)\n",
            "Trainable params: 84550 (330.27 KB)\n",
            "Non-trainable params: 0 (0.00 Byte)\n",
            "_________________________________________________________________\n"
          ]
        }
      ]
    },
    {
      "cell_type": "code",
      "source": [
        "#Create Data generators for training and validation\n",
        "batch_size = 16\n",
        "train_datagen = tf.keras.preprocessing.image.ImageDataGenerator(rescale = 1.0/255.0)\n",
        "train_generator = train_datagen.flow_from_directory(\n",
        "    data_path,\n",
        "    target_size = (124, 124),\n",
        "    batch_size = batch_size,\n",
        "    class_mode = 'sparse',\n",
        "    subset = 'training'\n",
        ")\n",
        "\n",
        "val_datagen = tf.keras.preprocessing.image.ImageDataGenerator(rescale = 1.0/255.0)\n",
        "val_generator = val_datagen.flow_from_directory(\n",
        "    data_path,\n",
        "    target_size = (124, 124),\n",
        "    batch_size = batch_size,\n",
        "    class_mode = 'sparse',\n",
        "    subset = 'validation'\n",
        ")"
      ],
      "metadata": {
        "colab": {
          "base_uri": "https://localhost:8080/"
        },
        "id": "vyZaRmHN1apN",
        "outputId": "44c4e074-a98b-4d81-a875-5384719951e6"
      },
      "execution_count": 6,
      "outputs": [
        {
          "output_type": "stream",
          "name": "stdout",
          "text": [
            "Found 651 images belonging to 5 classes.\n",
            "Found 0 images belonging to 5 classes.\n"
          ]
        }
      ]
    },
    {
      "cell_type": "code",
      "source": [
        "# Compile the model\n",
        "model.compile(optimizer='adam', loss='sparse_categorical_crossentropy', metrics=['accuracy'])\n",
        "\n",
        "# Train the model\n",
        "history = model.fit(X_train, y_train, epochs=50, batch_size=16, validation_data=(X_val, y_val))\n",
        "\n"
      ],
      "metadata": {
        "colab": {
          "base_uri": "https://localhost:8080/"
        },
        "id": "odaC-L91gaC3",
        "outputId": "416ed191-5b83-4cc8-adc8-9e28205fdc51"
      },
      "execution_count": 7,
      "outputs": [
        {
          "output_type": "stream",
          "name": "stdout",
          "text": [
            "Epoch 1/50\n",
            "33/33 [==============================] - 6s 140ms/step - loss: 1.6507 - accuracy: 0.2596 - val_loss: 1.5854 - val_accuracy: 0.2901\n",
            "Epoch 2/50\n",
            "33/33 [==============================] - 5s 153ms/step - loss: 1.6006 - accuracy: 0.2731 - val_loss: 1.5806 - val_accuracy: 0.2519\n",
            "Epoch 3/50\n",
            "33/33 [==============================] - 3s 100ms/step - loss: 1.5925 - accuracy: 0.2865 - val_loss: 1.5656 - val_accuracy: 0.2901\n",
            "Epoch 4/50\n",
            "33/33 [==============================] - 7s 202ms/step - loss: 1.5762 - accuracy: 0.3269 - val_loss: 1.5464 - val_accuracy: 0.2901\n",
            "Epoch 5/50\n",
            "33/33 [==============================] - 3s 88ms/step - loss: 1.5474 - accuracy: 0.3365 - val_loss: 1.5760 - val_accuracy: 0.2977\n",
            "Epoch 6/50\n",
            "33/33 [==============================] - 3s 88ms/step - loss: 1.5422 - accuracy: 0.3173 - val_loss: 1.5646 - val_accuracy: 0.2595\n",
            "Epoch 7/50\n",
            "33/33 [==============================] - 3s 88ms/step - loss: 1.5090 - accuracy: 0.3231 - val_loss: 1.5433 - val_accuracy: 0.3130\n",
            "Epoch 8/50\n",
            "33/33 [==============================] - 5s 149ms/step - loss: 1.4703 - accuracy: 0.3750 - val_loss: 1.5096 - val_accuracy: 0.3588\n",
            "Epoch 9/50\n",
            "33/33 [==============================] - 3s 89ms/step - loss: 1.4484 - accuracy: 0.4038 - val_loss: 1.5117 - val_accuracy: 0.3588\n",
            "Epoch 10/50\n",
            "33/33 [==============================] - 3s 87ms/step - loss: 1.4444 - accuracy: 0.3442 - val_loss: 1.5249 - val_accuracy: 0.3359\n",
            "Epoch 11/50\n",
            "33/33 [==============================] - 3s 88ms/step - loss: 1.3814 - accuracy: 0.4442 - val_loss: 1.5628 - val_accuracy: 0.3282\n",
            "Epoch 12/50\n",
            "33/33 [==============================] - 4s 125ms/step - loss: 1.3678 - accuracy: 0.4231 - val_loss: 1.4409 - val_accuracy: 0.4198\n",
            "Epoch 13/50\n",
            "33/33 [==============================] - 4s 114ms/step - loss: 1.3225 - accuracy: 0.4827 - val_loss: 1.4216 - val_accuracy: 0.4198\n",
            "Epoch 14/50\n",
            "33/33 [==============================] - 3s 89ms/step - loss: 1.2823 - accuracy: 0.5038 - val_loss: 1.5094 - val_accuracy: 0.3435\n",
            "Epoch 15/50\n",
            "33/33 [==============================] - 3s 89ms/step - loss: 1.2392 - accuracy: 0.5192 - val_loss: 1.4018 - val_accuracy: 0.4427\n",
            "Epoch 16/50\n",
            "33/33 [==============================] - 3s 103ms/step - loss: 1.1790 - accuracy: 0.5577 - val_loss: 1.3854 - val_accuracy: 0.4504\n",
            "Epoch 17/50\n",
            "33/33 [==============================] - 5s 136ms/step - loss: 1.1675 - accuracy: 0.5577 - val_loss: 1.4153 - val_accuracy: 0.4351\n",
            "Epoch 18/50\n",
            "33/33 [==============================] - 3s 88ms/step - loss: 1.1354 - accuracy: 0.5500 - val_loss: 1.3502 - val_accuracy: 0.4122\n",
            "Epoch 19/50\n",
            "33/33 [==============================] - 3s 87ms/step - loss: 1.0753 - accuracy: 0.5596 - val_loss: 1.3749 - val_accuracy: 0.4122\n",
            "Epoch 20/50\n",
            "33/33 [==============================] - 3s 88ms/step - loss: 1.0770 - accuracy: 0.5808 - val_loss: 1.3399 - val_accuracy: 0.4733\n",
            "Epoch 21/50\n",
            "33/33 [==============================] - 5s 149ms/step - loss: 0.9981 - accuracy: 0.6077 - val_loss: 1.3656 - val_accuracy: 0.4427\n",
            "Epoch 22/50\n",
            "33/33 [==============================] - 3s 102ms/step - loss: 1.0110 - accuracy: 0.6000 - val_loss: 1.3071 - val_accuracy: 0.4733\n",
            "Epoch 23/50\n",
            "33/33 [==============================] - 3s 87ms/step - loss: 0.9336 - accuracy: 0.6519 - val_loss: 1.3085 - val_accuracy: 0.5038\n",
            "Epoch 24/50\n",
            "33/33 [==============================] - 3s 87ms/step - loss: 0.9023 - accuracy: 0.6500 - val_loss: 1.3716 - val_accuracy: 0.4504\n",
            "Epoch 25/50\n",
            "33/33 [==============================] - 4s 129ms/step - loss: 0.9037 - accuracy: 0.6692 - val_loss: 1.3244 - val_accuracy: 0.4580\n",
            "Epoch 26/50\n",
            "33/33 [==============================] - 4s 110ms/step - loss: 0.8759 - accuracy: 0.6750 - val_loss: 1.2663 - val_accuracy: 0.5191\n",
            "Epoch 27/50\n",
            "33/33 [==============================] - 5s 153ms/step - loss: 0.8251 - accuracy: 0.6942 - val_loss: 1.3315 - val_accuracy: 0.4809\n",
            "Epoch 28/50\n",
            "33/33 [==============================] - 4s 114ms/step - loss: 0.8034 - accuracy: 0.7115 - val_loss: 1.3032 - val_accuracy: 0.4809\n",
            "Epoch 29/50\n",
            "33/33 [==============================] - 5s 142ms/step - loss: 0.7552 - accuracy: 0.7385 - val_loss: 1.2952 - val_accuracy: 0.5267\n",
            "Epoch 30/50\n",
            "33/33 [==============================] - 3s 100ms/step - loss: 0.7429 - accuracy: 0.7577 - val_loss: 1.2751 - val_accuracy: 0.5191\n",
            "Epoch 31/50\n",
            "33/33 [==============================] - 3s 88ms/step - loss: 0.7098 - accuracy: 0.7635 - val_loss: 1.3371 - val_accuracy: 0.4885\n",
            "Epoch 32/50\n",
            "33/33 [==============================] - 3s 88ms/step - loss: 0.6949 - accuracy: 0.7615 - val_loss: 1.3090 - val_accuracy: 0.5802\n",
            "Epoch 33/50\n",
            "33/33 [==============================] - 5s 150ms/step - loss: 0.6750 - accuracy: 0.7558 - val_loss: 1.2777 - val_accuracy: 0.5191\n",
            "Epoch 34/50\n",
            "33/33 [==============================] - 3s 89ms/step - loss: 0.6191 - accuracy: 0.7923 - val_loss: 1.3080 - val_accuracy: 0.5420\n",
            "Epoch 35/50\n",
            "33/33 [==============================] - 3s 88ms/step - loss: 0.6175 - accuracy: 0.7981 - val_loss: 1.3343 - val_accuracy: 0.5420\n",
            "Epoch 36/50\n",
            "33/33 [==============================] - 3s 88ms/step - loss: 0.5776 - accuracy: 0.8115 - val_loss: 1.3736 - val_accuracy: 0.4962\n",
            "Epoch 37/50\n",
            "33/33 [==============================] - 4s 123ms/step - loss: 0.5826 - accuracy: 0.8115 - val_loss: 1.3071 - val_accuracy: 0.5191\n",
            "Epoch 38/50\n",
            "33/33 [==============================] - 5s 138ms/step - loss: 0.5442 - accuracy: 0.8288 - val_loss: 1.3799 - val_accuracy: 0.5038\n",
            "Epoch 39/50\n",
            "33/33 [==============================] - 3s 87ms/step - loss: 0.5224 - accuracy: 0.8423 - val_loss: 1.3602 - val_accuracy: 0.5267\n",
            "Epoch 40/50\n",
            "33/33 [==============================] - 3s 88ms/step - loss: 0.4924 - accuracy: 0.8404 - val_loss: 1.4114 - val_accuracy: 0.4885\n",
            "Epoch 41/50\n",
            "33/33 [==============================] - 4s 115ms/step - loss: 0.4896 - accuracy: 0.8673 - val_loss: 1.3675 - val_accuracy: 0.5344\n",
            "Epoch 42/50\n",
            "33/33 [==============================] - 4s 124ms/step - loss: 0.4868 - accuracy: 0.8481 - val_loss: 1.3751 - val_accuracy: 0.5573\n",
            "Epoch 43/50\n",
            "33/33 [==============================] - 3s 87ms/step - loss: 0.4377 - accuracy: 0.8750 - val_loss: 1.4449 - val_accuracy: 0.5344\n",
            "Epoch 44/50\n",
            "33/33 [==============================] - 3s 88ms/step - loss: 0.4171 - accuracy: 0.8865 - val_loss: 1.4553 - val_accuracy: 0.5115\n",
            "Epoch 45/50\n",
            "33/33 [==============================] - 3s 87ms/step - loss: 0.3951 - accuracy: 0.8885 - val_loss: 1.4722 - val_accuracy: 0.5115\n",
            "Epoch 46/50\n",
            "33/33 [==============================] - 5s 157ms/step - loss: 0.3837 - accuracy: 0.8981 - val_loss: 1.4438 - val_accuracy: 0.5420\n",
            "Epoch 47/50\n",
            "33/33 [==============================] - 3s 87ms/step - loss: 0.3732 - accuracy: 0.9058 - val_loss: 1.4812 - val_accuracy: 0.5802\n",
            "Epoch 48/50\n",
            "33/33 [==============================] - 3s 90ms/step - loss: 0.3528 - accuracy: 0.9058 - val_loss: 1.5022 - val_accuracy: 0.5267\n",
            "Epoch 49/50\n",
            "33/33 [==============================] - 3s 88ms/step - loss: 0.3440 - accuracy: 0.9135 - val_loss: 1.6492 - val_accuracy: 0.5115\n",
            "Epoch 50/50\n",
            "33/33 [==============================] - 7s 232ms/step - loss: 0.3321 - accuracy: 0.9077 - val_loss: 1.5119 - val_accuracy: 0.4962\n"
          ]
        }
      ]
    },
    {
      "cell_type": "code",
      "source": [
        "import matplotlib.pyplot as plt\n",
        "\n",
        "# Plot training and validation loss\n",
        "plt.figure(figsize=(12, 5))\n",
        "plt.subplot(1, 2, 1)\n",
        "plt.plot(history.history['loss'], label='Training Loss')\n",
        "plt.plot(history.history['val_loss'], label='Validation Loss')\n",
        "plt.legend()\n",
        "plt.xlabel('Epochs')\n",
        "plt.ylabel('Loss')\n",
        "plt.title('Loss vs. Epochs')\n",
        "\n",
        "# Plot training and validation accuracy\n",
        "plt.subplot(1, 2, 2)\n",
        "plt.plot(history.history['accuracy'], label='Training Accuracy')\n",
        "plt.plot(history.history['val_accuracy'], label='Validation Accuracy')\n",
        "plt.legend()\n",
        "plt.xlabel('Epochs')\n",
        "plt.ylabel('Accuracy')\n",
        "plt.title('Accuracy vs. Epochs')\n",
        "\n",
        "plt.show()\n"
      ],
      "metadata": {
        "colab": {
          "base_uri": "https://localhost:8080/",
          "height": 487
        },
        "id": "mZuGdTcixalt",
        "outputId": "962a3926-7804-448c-ca0d-d4afa426f3ae"
      },
      "execution_count": 8,
      "outputs": [
        {
          "output_type": "display_data",
          "data": {
            "text/plain": [
              "<Figure size 1200x500 with 2 Axes>"
            ],
            "image/png": "[encoded data removed]"
          },
          "metadata": {}
        }
      ]
    },
    {
      "cell_type": "code",
      "source": [
        "model = Sequential()\n",
        "\n",
        "# Convolutional layers\n",
        "model.add(Conv2D(32, (3, 3), activation='sigmoid', strides=(1, 1), padding='valid', input_shape=(124, 124, 3), name='conv1'))\n",
        "model.add(MaxPooling2D(pool_size=(2, 2), name='Pool1'))\n",
        "model.add(Conv2D(64, (3, 3), activation='relu', strides=(1, 1), padding='valid', name='conv2'))\n",
        "model.add(MaxPooling2D(pool_size=(2, 2), name='Pool2'))\n",
        "\n",
        "# Fully connected layers\n",
        "model.add(Flatten())\n",
        "model.add(Dense(128, activation='relu', name='FC1'))\n",
        "model.add(Dropout(0.5))\n",
        "# Output layer\n",
        "model.add(Dense(6, activation='softmax', name='Output'))"
      ],
      "metadata": {
        "id": "CAvt51wnxhSS"
      },
      "execution_count": 13,
      "outputs": []
    },
    {
      "cell_type": "code",
      "source": [],
      "metadata": {
        "id": "NP2gq_dKe5tH"
      },
      "execution_count": null,
      "outputs": []
    },
    {
      "cell_type": "code",
      "source": [
        "#Create Data generators for training and validation\n",
        "batch_size = 16\n",
        "train_datagen = tf.keras.preprocessing.image.ImageDataGenerator(rescale = 1.0/255.0)\n",
        "train_generator = train_datagen.flow_from_directory(\n",
        "    data_path,\n",
        "    target_size = (124, 124),\n",
        "    batch_size = batch_size,\n",
        "    class_mode = 'sparse',\n",
        "    subset = 'training'\n",
        ")\n",
        "\n",
        "val_datagen = tf.keras.preprocessing.image.ImageDataGenerator(rescale = 1.0/255.0)\n",
        "val_generator = val_datagen.flow_from_directory(\n",
        "    data_path,\n",
        "    target_size = (124, 124),\n",
        "    batch_size = batch_size,\n",
        "    class_mode = 'sparse',\n",
        "    subset = 'validation'\n",
        ")"
      ],
      "metadata": {
        "colab": {
          "base_uri": "https://localhost:8080/"
        },
        "id": "jlEyJAFOe_ea",
        "outputId": "d62926a8-26e7-48b0-c032-439367901955"
      },
      "execution_count": 15,
      "outputs": [
        {
          "output_type": "stream",
          "name": "stdout",
          "text": [
            "Found 651 images belonging to 5 classes.\n",
            "Found 0 images belonging to 5 classes.\n"
          ]
        }
      ]
    },
    {
      "cell_type": "code",
      "source": [
        "# Compile the model\n",
        "model.compile(optimizer='adam', loss='sparse_categorical_crossentropy', metrics=['accuracy'])\n",
        "\n",
        "# Train the model\n",
        "history = model.fit(X_train, y_train, epochs=50, batch_size=16, validation_data=(X_val, y_val))"
      ],
      "metadata": {
        "colab": {
          "base_uri": "https://localhost:8080/"
        },
        "id": "kdwQQIvBfU4g",
        "outputId": "8db897c7-7ba4-46f1-dbb2-0c25289c1851"
      },
      "execution_count": null,
      "outputs": [
        {
          "output_type": "stream",
          "name": "stdout",
          "text": [
            "Epoch 1/50\n",
            "33/33 [==============================] - 14s 399ms/step - loss: 2.2685 - accuracy: 0.2596 - val_loss: 1.7703 - val_accuracy: 0.2901\n",
            "Epoch 2/50\n",
            "33/33 [==============================] - 15s 454ms/step - loss: 1.7582 - accuracy: 0.2635 - val_loss: 1.7355 - val_accuracy: 0.2901\n",
            "Epoch 3/50\n",
            "33/33 [==============================] - 13s 389ms/step - loss: 1.7276 - accuracy: 0.2596 - val_loss: 1.6987 - val_accuracy: 0.2901\n",
            "Epoch 4/50\n",
            "33/33 [==============================] - 13s 388ms/step - loss: 1.6924 - accuracy: 0.2596 - val_loss: 1.6652 - val_accuracy: 0.2901\n",
            "Epoch 5/50\n",
            "33/33 [==============================] - 13s 390ms/step - loss: 1.6668 - accuracy: 0.2596 - val_loss: 1.6355 - val_accuracy: 0.2901\n",
            "Epoch 6/50\n",
            "33/33 [==============================] - 13s 388ms/step - loss: 1.6444 - accuracy: 0.2577 - val_loss: 1.6167 - val_accuracy: 0.2901\n",
            "Epoch 7/50\n",
            "33/33 [==============================] - 15s 449ms/step - loss: 1.6309 - accuracy: 0.2615 - val_loss: 1.6033 - val_accuracy: 0.2901\n",
            "Epoch 8/50\n",
            "33/33 [==============================] - 12s 378ms/step - loss: 1.6231 - accuracy: 0.2654 - val_loss: 1.5937 - val_accuracy: 0.2901\n",
            "Epoch 9/50\n",
            "33/33 [==============================] - 11s 338ms/step - loss: 1.6182 - accuracy: 0.2538 - val_loss: 1.5882 - val_accuracy: 0.2901\n",
            "Epoch 10/50\n",
            "33/33 [==============================] - 13s 390ms/step - loss: 1.6129 - accuracy: 0.2596 - val_loss: 1.5836 - val_accuracy: 0.2901\n",
            "Epoch 11/50\n",
            "33/33 [==============================] - 14s 426ms/step - loss: 1.6097 - accuracy: 0.2654 - val_loss: 1.5792 - val_accuracy: 0.2901\n",
            "Epoch 12/50\n",
            "33/33 [==============================] - 13s 393ms/step - loss: 1.6102 - accuracy: 0.2596 - val_loss: 1.5768 - val_accuracy: 0.2901\n",
            "Epoch 13/50\n",
            "33/33 [==============================] - 13s 393ms/step - loss: 1.6009 - accuracy: 0.2442 - val_loss: 1.5756 - val_accuracy: 0.2901\n",
            "Epoch 14/50\n",
            "33/33 [==============================] - 13s 395ms/step - loss: 1.6055 - accuracy: 0.2481 - val_loss: 1.5723 - val_accuracy: 0.2901\n",
            "Epoch 15/50\n",
            "33/33 [==============================] - 13s 411ms/step - loss: 1.6016 - accuracy: 0.2442 - val_loss: 1.5737 - val_accuracy: 0.2901\n",
            "Epoch 16/50\n",
            "33/33 [==============================] - 13s 410ms/step - loss: 1.5968 - accuracy: 0.2635 - val_loss: 1.5734 - val_accuracy: 0.2901\n",
            "Epoch 17/50\n",
            "33/33 [==============================] - 15s 452ms/step - loss: 1.6000 - accuracy: 0.2577 - val_loss: 1.5728 - val_accuracy: 0.2901\n",
            "Epoch 18/50\n",
            "33/33 [==============================] - 14s 412ms/step - loss: 1.6016 - accuracy: 0.2558 - val_loss: 1.5719 - val_accuracy: 0.2901\n",
            "Epoch 19/50\n",
            "33/33 [==============================] - 13s 388ms/step - loss: 1.5972 - accuracy: 0.2538 - val_loss: 1.5710 - val_accuracy: 0.2901\n",
            "Epoch 20/50\n",
            "33/33 [==============================] - 12s 356ms/step - loss: 1.5966 - accuracy: 0.2538 - val_loss: 1.5699 - val_accuracy: 0.2901\n",
            "Epoch 21/50\n",
            "33/33 [==============================] - 12s 363ms/step - loss: 1.5997 - accuracy: 0.2346 - val_loss: 1.5706 - val_accuracy: 0.2901\n",
            "Epoch 22/50\n",
            "33/33 [==============================] - 13s 393ms/step - loss: 1.5946 - accuracy: 0.2519 - val_loss: 1.5691 - val_accuracy: 0.2901\n",
            "Epoch 23/50\n",
            "33/33 [==============================] - 13s 396ms/step - loss: 1.6004 - accuracy: 0.2481 - val_loss: 1.5688 - val_accuracy: 0.2901\n",
            "Epoch 24/50\n",
            "33/33 [==============================] - 13s 391ms/step - loss: 1.6014 - accuracy: 0.2500 - val_loss: 1.5696 - val_accuracy: 0.2901\n",
            "Epoch 25/50\n",
            "33/33 [==============================] - 13s 405ms/step - loss: 1.5997 - accuracy: 0.2673 - val_loss: 1.5699 - val_accuracy: 0.2901\n",
            "Epoch 26/50\n",
            "33/33 [==============================] - 14s 440ms/step - loss: 1.5890 - accuracy: 0.2615 - val_loss: 1.5698 - val_accuracy: 0.2901\n",
            "Epoch 27/50\n",
            "33/33 [==============================] - 14s 405ms/step - loss: 1.5901 - accuracy: 0.2577 - val_loss: 1.5704 - val_accuracy: 0.2901\n",
            "Epoch 28/50\n",
            "33/33 [==============================] - 13s 382ms/step - loss: 1.5917 - accuracy: 0.2596 - val_loss: 1.5702 - val_accuracy: 0.2901\n",
            "Epoch 29/50\n",
            "33/33 [==============================] - 12s 352ms/step - loss: 1.5960 - accuracy: 0.2538 - val_loss: 1.5699 - val_accuracy: 0.2901\n",
            "Epoch 30/50\n",
            "33/33 [==============================] - 13s 374ms/step - loss: 1.5982 - accuracy: 0.2596 - val_loss: 1.5689 - val_accuracy: 0.2901\n",
            "Epoch 31/50\n",
            "33/33 [==============================] - 13s 396ms/step - loss: 1.5874 - accuracy: 0.2596 - val_loss: 1.5669 - val_accuracy: 0.2901\n",
            "Epoch 32/50\n",
            "33/33 [==============================] - 13s 394ms/step - loss: 1.5963 - accuracy: 0.2654 - val_loss: 1.5675 - val_accuracy: 0.2901\n",
            "Epoch 33/50\n",
            "33/33 [==============================] - 13s 402ms/step - loss: 1.5952 - accuracy: 0.2462 - val_loss: 1.5678 - val_accuracy: 0.2901\n",
            "Epoch 34/50\n",
            "33/33 [==============================] - 13s 392ms/step - loss: 1.5966 - accuracy: 0.2423 - val_loss: 1.5684 - val_accuracy: 0.2901\n",
            "Epoch 35/50\n",
            "33/33 [==============================] - 13s 396ms/step - loss: 1.5958 - accuracy: 0.2615 - val_loss: 1.5688 - val_accuracy: 0.2901\n",
            "Epoch 36/50\n",
            "33/33 [==============================] - 13s 399ms/step - loss: 1.5980 - accuracy: 0.2577 - val_loss: 1.5694 - val_accuracy: 0.2901\n",
            "Epoch 37/50\n",
            "33/33 [==============================] - 13s 388ms/step - loss: 1.5922 - accuracy: 0.2750 - val_loss: 1.5705 - val_accuracy: 0.2901\n",
            "Epoch 38/50\n",
            "33/33 [==============================] - 13s 392ms/step - loss: 1.5940 - accuracy: 0.2462 - val_loss: 1.5691 - val_accuracy: 0.2901\n",
            "Epoch 39/50\n",
            "33/33 [==============================] - 13s 391ms/step - loss: 1.5921 - accuracy: 0.2615 - val_loss: 1.5678 - val_accuracy: 0.2901\n",
            "Epoch 40/50\n",
            "33/33 [==============================] - 13s 394ms/step - loss: 1.5905 - accuracy: 0.2692 - val_loss: 1.5672 - val_accuracy: 0.2901\n",
            "Epoch 41/50\n",
            "33/33 [==============================] - 13s 393ms/step - loss: 1.5957 - accuracy: 0.2635 - val_loss: 1.5674 - val_accuracy: 0.2901\n",
            "Epoch 42/50\n",
            "33/33 [==============================] - 13s 393ms/step - loss: 1.5909 - accuracy: 0.2615 - val_loss: 1.5680 - val_accuracy: 0.2901\n",
            "Epoch 43/50\n",
            "33/33 [==============================] - 13s 393ms/step - loss: 1.5918 - accuracy: 0.2635 - val_loss: 1.5678 - val_accuracy: 0.2901\n",
            "Epoch 44/50\n",
            "33/33 [==============================] - 12s 369ms/step - loss: 1.5928 - accuracy: 0.2577 - val_loss: 1.5678 - val_accuracy: 0.2901\n",
            "Epoch 45/50\n",
            "33/33 [==============================] - 12s 351ms/step - loss: 1.5893 - accuracy: 0.2538 - val_loss: 1.5670 - val_accuracy: 0.2901\n",
            "Epoch 46/50\n",
            "23/33 [===================>..........] - ETA: 4s - loss: 1.5909 - accuracy: 0.2283"
          ]
        }
      ]
    },
    {
      "cell_type": "code",
      "source": [
        "import matplotlib.pyplot as plt\n",
        "\n",
        "# Plot training and validation loss\n",
        "plt.figure(figsize=(12, 5))\n",
        "plt.subplot(1, 2, 1)\n",
        "plt.plot(history.history['loss'], label='Training Loss')\n",
        "plt.plot(history.history['val_loss'], label='Validation Loss')\n",
        "plt.legend()\n",
        "plt.xlabel('Epochs')\n",
        "plt.ylabel('Loss')\n",
        "plt.title('Loss vs. Epochs')\n",
        "\n",
        "# Plot training and validation accuracy\n",
        "plt.subplot(1, 2, 2)\n",
        "plt.plot(history.history['accuracy'], label='Training Accuracy')\n",
        "plt.plot(history.history['val_accuracy'], label='Validation Accuracy')\n",
        "plt.legend()\n",
        "plt.xlabel('Epochs')\n",
        "plt.ylabel('Accuracy')\n",
        "plt.title('Accuracy vs. Epochs')\n",
        "\n",
        "plt.show()\n"
      ],
      "metadata": {
        "id": "OzUGMkf3hIuA"
      },
      "execution_count": null,
      "outputs": []
    }
  ]
}